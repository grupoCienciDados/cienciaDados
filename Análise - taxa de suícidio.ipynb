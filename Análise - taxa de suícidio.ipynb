{
 "cells": [
  {
   "cell_type": "markdown",
   "id": "0859d279",
   "metadata": {},
   "source": [
    "# Visão geral  sobre taxa de suícidio"
   ]
  },
  {
   "cell_type": "markdown",
   "id": "faf92b76",
   "metadata": {},
   "source": [
    "Amostra coletada de : https://www.kaggle.com/russellyates88/suicide-rates-overview-1985-to-2016"
   ]
  },
  {
   "cell_type": "markdown",
   "id": "a99fcb2a",
   "metadata": {},
   "source": [
    "Segundo a fonte da informação, esses dados foram sendo agrupado de 1985 a 2016,oportanto, conforme esse dataset esta sendo analisado em 2021, os valores que aqui representarmosnão representaram a realizadade atual.\n",
    "Fram agrupados informações estatísticas sobre casos de suícidio de diversos países até a data em questão"
   ]
  },
  {
   "cell_type": "code",
   "execution_count": 2,
   "id": "2e7ec74d",
   "metadata": {},
   "outputs": [],
   "source": [
    "import pandas as pd"
   ]
  },
  {
   "cell_type": "code",
   "execution_count": 3,
   "id": "ce716401",
   "metadata": {},
   "outputs": [],
   "source": [
    "df = pd.read_csv('Dataset\\master.csv', sep=',')"
   ]
  },
  {
   "cell_type": "code",
   "execution_count": 4,
   "id": "222dab8a",
   "metadata": {},
   "outputs": [
    {
     "data": {
      "text/html": [
       "<div>\n",
       "<style scoped>\n",
       "    .dataframe tbody tr th:only-of-type {\n",
       "        vertical-align: middle;\n",
       "    }\n",
       "\n",
       "    .dataframe tbody tr th {\n",
       "        vertical-align: top;\n",
       "    }\n",
       "\n",
       "    .dataframe thead th {\n",
       "        text-align: right;\n",
       "    }\n",
       "</style>\n",
       "<table border=\"1\" class=\"dataframe\">\n",
       "  <thead>\n",
       "    <tr style=\"text-align: right;\">\n",
       "      <th></th>\n",
       "      <th>country</th>\n",
       "      <th>year</th>\n",
       "      <th>sex</th>\n",
       "      <th>age</th>\n",
       "      <th>suicides_no</th>\n",
       "      <th>population</th>\n",
       "      <th>suicides/100k pop</th>\n",
       "      <th>country-year</th>\n",
       "      <th>HDI for year</th>\n",
       "      <th>gdp_for_year ($)</th>\n",
       "      <th>gdp_per_capita ($)</th>\n",
       "      <th>generation</th>\n",
       "    </tr>\n",
       "  </thead>\n",
       "  <tbody>\n",
       "    <tr>\n",
       "      <th>0</th>\n",
       "      <td>Albania</td>\n",
       "      <td>1987</td>\n",
       "      <td>male</td>\n",
       "      <td>15-24 years</td>\n",
       "      <td>21</td>\n",
       "      <td>312900</td>\n",
       "      <td>6.71</td>\n",
       "      <td>Albania1987</td>\n",
       "      <td>NaN</td>\n",
       "      <td>2,156,624,900</td>\n",
       "      <td>796</td>\n",
       "      <td>Generation X</td>\n",
       "    </tr>\n",
       "    <tr>\n",
       "      <th>1</th>\n",
       "      <td>Albania</td>\n",
       "      <td>1987</td>\n",
       "      <td>male</td>\n",
       "      <td>35-54 years</td>\n",
       "      <td>16</td>\n",
       "      <td>308000</td>\n",
       "      <td>5.19</td>\n",
       "      <td>Albania1987</td>\n",
       "      <td>NaN</td>\n",
       "      <td>2,156,624,900</td>\n",
       "      <td>796</td>\n",
       "      <td>Silent</td>\n",
       "    </tr>\n",
       "    <tr>\n",
       "      <th>2</th>\n",
       "      <td>Albania</td>\n",
       "      <td>1987</td>\n",
       "      <td>female</td>\n",
       "      <td>15-24 years</td>\n",
       "      <td>14</td>\n",
       "      <td>289700</td>\n",
       "      <td>4.83</td>\n",
       "      <td>Albania1987</td>\n",
       "      <td>NaN</td>\n",
       "      <td>2,156,624,900</td>\n",
       "      <td>796</td>\n",
       "      <td>Generation X</td>\n",
       "    </tr>\n",
       "  </tbody>\n",
       "</table>\n",
       "</div>"
      ],
      "text/plain": [
       "   country  year     sex          age  suicides_no  population  \\\n",
       "0  Albania  1987    male  15-24 years           21      312900   \n",
       "1  Albania  1987    male  35-54 years           16      308000   \n",
       "2  Albania  1987  female  15-24 years           14      289700   \n",
       "\n",
       "   suicides/100k pop country-year  HDI for year  gdp_for_year ($)   \\\n",
       "0               6.71  Albania1987           NaN      2,156,624,900   \n",
       "1               5.19  Albania1987           NaN      2,156,624,900   \n",
       "2               4.83  Albania1987           NaN      2,156,624,900   \n",
       "\n",
       "   gdp_per_capita ($)    generation  \n",
       "0                 796  Generation X  \n",
       "1                 796        Silent  \n",
       "2                 796  Generation X  "
      ]
     },
     "execution_count": 4,
     "metadata": {},
     "output_type": "execute_result"
    }
   ],
   "source": [
    "df.head(3)"
   ]
  },
  {
   "cell_type": "markdown",
   "id": "7be31b21",
   "metadata": {},
   "source": [
    "Para iniciarmos nossos estudos, iremos garimpar algumas colunas de nossa tabala para simplificar a visualização"
   ]
  },
  {
   "cell_type": "code",
   "execution_count": 5,
   "id": "d59a3fa1",
   "metadata": {},
   "outputs": [
    {
     "data": {
      "text/plain": [
       "Index(['country', 'year', 'sex', 'age', 'suicides_no', 'population',\n",
       "       'suicides/100k pop', 'country-year', 'HDI for year',\n",
       "       ' gdp_for_year ($) ', 'gdp_per_capita ($)', 'generation'],\n",
       "      dtype='object')"
      ]
     },
     "execution_count": 5,
     "metadata": {},
     "output_type": "execute_result"
    }
   ],
   "source": [
    "df.columns"
   ]
  },
  {
   "cell_type": "code",
   "execution_count": 6,
   "id": "a9179136",
   "metadata": {},
   "outputs": [],
   "source": [
    "df.drop(['suicides/100k pop', 'HDI for year', 'gdp_per_capita ($)', ' gdp_for_year ($) '], axis = 1, inplace = True)"
   ]
  },
  {
   "cell_type": "code",
   "execution_count": 7,
   "id": "9044d607",
   "metadata": {},
   "outputs": [
    {
     "data": {
      "text/html": [
       "<div>\n",
       "<style scoped>\n",
       "    .dataframe tbody tr th:only-of-type {\n",
       "        vertical-align: middle;\n",
       "    }\n",
       "\n",
       "    .dataframe tbody tr th {\n",
       "        vertical-align: top;\n",
       "    }\n",
       "\n",
       "    .dataframe thead th {\n",
       "        text-align: right;\n",
       "    }\n",
       "</style>\n",
       "<table border=\"1\" class=\"dataframe\">\n",
       "  <thead>\n",
       "    <tr style=\"text-align: right;\">\n",
       "      <th></th>\n",
       "      <th>country</th>\n",
       "      <th>year</th>\n",
       "      <th>sex</th>\n",
       "      <th>age</th>\n",
       "      <th>suicides_no</th>\n",
       "      <th>population</th>\n",
       "      <th>country-year</th>\n",
       "      <th>generation</th>\n",
       "    </tr>\n",
       "  </thead>\n",
       "  <tbody>\n",
       "    <tr>\n",
       "      <th>0</th>\n",
       "      <td>Albania</td>\n",
       "      <td>1987</td>\n",
       "      <td>male</td>\n",
       "      <td>15-24 years</td>\n",
       "      <td>21</td>\n",
       "      <td>312900</td>\n",
       "      <td>Albania1987</td>\n",
       "      <td>Generation X</td>\n",
       "    </tr>\n",
       "    <tr>\n",
       "      <th>1</th>\n",
       "      <td>Albania</td>\n",
       "      <td>1987</td>\n",
       "      <td>male</td>\n",
       "      <td>35-54 years</td>\n",
       "      <td>16</td>\n",
       "      <td>308000</td>\n",
       "      <td>Albania1987</td>\n",
       "      <td>Silent</td>\n",
       "    </tr>\n",
       "    <tr>\n",
       "      <th>2</th>\n",
       "      <td>Albania</td>\n",
       "      <td>1987</td>\n",
       "      <td>female</td>\n",
       "      <td>15-24 years</td>\n",
       "      <td>14</td>\n",
       "      <td>289700</td>\n",
       "      <td>Albania1987</td>\n",
       "      <td>Generation X</td>\n",
       "    </tr>\n",
       "    <tr>\n",
       "      <th>3</th>\n",
       "      <td>Albania</td>\n",
       "      <td>1987</td>\n",
       "      <td>male</td>\n",
       "      <td>75+ years</td>\n",
       "      <td>1</td>\n",
       "      <td>21800</td>\n",
       "      <td>Albania1987</td>\n",
       "      <td>G.I. Generation</td>\n",
       "    </tr>\n",
       "    <tr>\n",
       "      <th>4</th>\n",
       "      <td>Albania</td>\n",
       "      <td>1987</td>\n",
       "      <td>male</td>\n",
       "      <td>25-34 years</td>\n",
       "      <td>9</td>\n",
       "      <td>274300</td>\n",
       "      <td>Albania1987</td>\n",
       "      <td>Boomers</td>\n",
       "    </tr>\n",
       "  </tbody>\n",
       "</table>\n",
       "</div>"
      ],
      "text/plain": [
       "   country  year     sex          age  suicides_no  population country-year  \\\n",
       "0  Albania  1987    male  15-24 years           21      312900  Albania1987   \n",
       "1  Albania  1987    male  35-54 years           16      308000  Albania1987   \n",
       "2  Albania  1987  female  15-24 years           14      289700  Albania1987   \n",
       "3  Albania  1987    male    75+ years            1       21800  Albania1987   \n",
       "4  Albania  1987    male  25-34 years            9      274300  Albania1987   \n",
       "\n",
       "        generation  \n",
       "0     Generation X  \n",
       "1           Silent  \n",
       "2     Generation X  \n",
       "3  G.I. Generation  \n",
       "4          Boomers  "
      ]
     },
     "execution_count": 7,
     "metadata": {},
     "output_type": "execute_result"
    }
   ],
   "source": [
    "df.head(5)"
   ]
  },
  {
   "cell_type": "code",
   "execution_count": 8,
   "id": "d6381ca8",
   "metadata": {},
   "outputs": [
    {
     "data": {
      "text/plain": [
       "101"
      ]
     },
     "execution_count": 8,
     "metadata": {},
     "output_type": "execute_result"
    }
   ],
   "source": [
    "len(df['country'].unique())"
   ]
  },
  {
   "cell_type": "markdown",
   "id": "1ead58a3",
   "metadata": {},
   "source": [
    "O DataSet, conforme informação acima, coletou dados de 101 paíse"
   ]
  },
  {
   "cell_type": "markdown",
   "id": "db49ce25",
   "metadata": {},
   "source": [
    "Agora veremos os 10 primeiros país com maior quantidade de entradas nessa planilha"
   ]
  },
  {
   "cell_type": "code",
   "execution_count": 9,
   "id": "9d7bf431",
   "metadata": {},
   "outputs": [
    {
     "data": {
      "text/plain": [
       "Iceland          382\n",
       "Netherlands      382\n",
       "Austria          382\n",
       "Mauritius        382\n",
       "Luxembourg       372\n",
       "Argentina        372\n",
       "Brazil           372\n",
       "Colombia         372\n",
       "United States    372\n",
       "Spain            372\n",
       "Name: country, dtype: int64"
      ]
     },
     "execution_count": 9,
     "metadata": {},
     "output_type": "execute_result"
    }
   ],
   "source": [
    "df['country'].value_counts().head(10)"
   ]
  },
  {
   "cell_type": "markdown",
   "id": "27d957f4",
   "metadata": {},
   "source": [
    "Os valores acima somente demonstram a quantidade de vezes que um país foi listado, o que pode indicar qual país mais tem entradas em diferentes classificações de suícidio.\n",
    "Desse primeiro ponto de vista, as Ilhas Maurício lideram."
   ]
  },
  {
   "cell_type": "markdown",
   "id": "51d46c9a",
   "metadata": {},
   "source": [
    "Iremos agrupar esse essas informação por país, para que possamos ter uma visão melhor"
   ]
  },
  {
   "cell_type": "code",
   "execution_count": 10,
   "id": "944afb7d",
   "metadata": {},
   "outputs": [],
   "source": [
    "grupoPais = df.groupby('country')"
   ]
  },
  {
   "cell_type": "code",
   "execution_count": 11,
   "id": "0b3a9166",
   "metadata": {},
   "outputs": [
    {
     "data": {
      "text/plain": [
       "[1, 2, 3, 4, 5, 6, 7, 8, 9, 10]"
      ]
     },
     "execution_count": 11,
     "metadata": {},
     "output_type": "execute_result"
    }
   ],
   "source": [
    "index = list(range(1, 11))\n",
    "index"
   ]
  },
  {
   "cell_type": "code",
   "execution_count": 12,
   "id": "ee85c99d",
   "metadata": {},
   "outputs": [
    {
     "data": {
      "text/html": [
       "<div>\n",
       "<style scoped>\n",
       "    .dataframe tbody tr th:only-of-type {\n",
       "        vertical-align: middle;\n",
       "    }\n",
       "\n",
       "    .dataframe tbody tr th {\n",
       "        vertical-align: top;\n",
       "    }\n",
       "\n",
       "    .dataframe thead th {\n",
       "        text-align: right;\n",
       "    }\n",
       "</style>\n",
       "<table border=\"1\" class=\"dataframe\">\n",
       "  <thead>\n",
       "    <tr style=\"text-align: right;\">\n",
       "      <th></th>\n",
       "      <th>suicides_no</th>\n",
       "    </tr>\n",
       "    <tr>\n",
       "      <th>country</th>\n",
       "      <th></th>\n",
       "    </tr>\n",
       "  </thead>\n",
       "  <tbody>\n",
       "    <tr>\n",
       "      <th>Russian Federation</th>\n",
       "      <td>3733.771605</td>\n",
       "    </tr>\n",
       "    <tr>\n",
       "      <th>United States</th>\n",
       "      <td>2779.604839</td>\n",
       "    </tr>\n",
       "    <tr>\n",
       "      <th>Japan</th>\n",
       "      <td>2169.091398</td>\n",
       "    </tr>\n",
       "    <tr>\n",
       "      <th>Ukraine</th>\n",
       "      <td>952.232143</td>\n",
       "    </tr>\n",
       "    <tr>\n",
       "      <th>Germany</th>\n",
       "      <td>933.532051</td>\n",
       "    </tr>\n",
       "    <tr>\n",
       "      <th>France</th>\n",
       "      <td>914.241667</td>\n",
       "    </tr>\n",
       "    <tr>\n",
       "      <th>Republic of Korea</th>\n",
       "      <td>703.575269</td>\n",
       "    </tr>\n",
       "    <tr>\n",
       "      <th>Brazil</th>\n",
       "      <td>609.174731</td>\n",
       "    </tr>\n",
       "    <tr>\n",
       "      <th>Poland</th>\n",
       "      <td>482.979167</td>\n",
       "    </tr>\n",
       "    <tr>\n",
       "      <th>Sri Lanka</th>\n",
       "      <td>421.522727</td>\n",
       "    </tr>\n",
       "  </tbody>\n",
       "</table>\n",
       "</div>"
      ],
      "text/plain": [
       "                    suicides_no\n",
       "country                        \n",
       "Russian Federation  3733.771605\n",
       "United States       2779.604839\n",
       "Japan               2169.091398\n",
       "Ukraine              952.232143\n",
       "Germany              933.532051\n",
       "France               914.241667\n",
       "Republic of Korea    703.575269\n",
       "Brazil               609.174731\n",
       "Poland               482.979167\n",
       "Sri Lanka            421.522727"
      ]
     },
     "execution_count": 12,
     "metadata": {},
     "output_type": "execute_result"
    }
   ],
   "source": [
    "pd.DataFrame(grupoPais['suicides_no'].mean().sort_values(ascending = False).head(10))"
   ]
  },
  {
   "cell_type": "code",
   "execution_count": null,
   "id": "f6fecea3",
   "metadata": {},
   "outputs": [],
   "source": []
  },
  {
   "cell_type": "markdown",
   "id": "5866a81a",
   "metadata": {},
   "source": [
    "A partir da lista acima, fizemos um agrupamento por país e tiramos uma média da coluna \"suicide_no\" (numero de suicidios), nesse caso, a média contabilizo todos os números de de suícidio, idependente da faixa etária, e ja pudemos visualizar um cenário bem diferente, onde a Russia lidere com folga, seguido de Estados e japão.\n",
    "Outro ponto a ser observado, é o que o Brasil está em 8° lugar nessa lista"
   ]
  },
  {
   "cell_type": "code",
   "execution_count": 13,
   "id": "a6a333e4",
   "metadata": {},
   "outputs": [
    {
     "data": {
      "text/html": [
       "<div>\n",
       "<style scoped>\n",
       "    .dataframe tbody tr th:only-of-type {\n",
       "        vertical-align: middle;\n",
       "    }\n",
       "\n",
       "    .dataframe tbody tr th {\n",
       "        vertical-align: top;\n",
       "    }\n",
       "\n",
       "    .dataframe thead th {\n",
       "        text-align: right;\n",
       "    }\n",
       "</style>\n",
       "<table border=\"1\" class=\"dataframe\">\n",
       "  <thead>\n",
       "    <tr style=\"text-align: right;\">\n",
       "      <th></th>\n",
       "      <th>country</th>\n",
       "      <th>year</th>\n",
       "      <th>sex</th>\n",
       "      <th>age</th>\n",
       "      <th>suicides_no</th>\n",
       "      <th>population</th>\n",
       "      <th>country-year</th>\n",
       "      <th>generation</th>\n",
       "    </tr>\n",
       "  </thead>\n",
       "  <tbody>\n",
       "    <tr>\n",
       "      <th>0</th>\n",
       "      <td>Albania</td>\n",
       "      <td>1987</td>\n",
       "      <td>male</td>\n",
       "      <td>15-24 years</td>\n",
       "      <td>21</td>\n",
       "      <td>312900</td>\n",
       "      <td>Albania1987</td>\n",
       "      <td>Generation X</td>\n",
       "    </tr>\n",
       "    <tr>\n",
       "      <th>1</th>\n",
       "      <td>Albania</td>\n",
       "      <td>1987</td>\n",
       "      <td>male</td>\n",
       "      <td>35-54 years</td>\n",
       "      <td>16</td>\n",
       "      <td>308000</td>\n",
       "      <td>Albania1987</td>\n",
       "      <td>Silent</td>\n",
       "    </tr>\n",
       "    <tr>\n",
       "      <th>2</th>\n",
       "      <td>Albania</td>\n",
       "      <td>1987</td>\n",
       "      <td>female</td>\n",
       "      <td>15-24 years</td>\n",
       "      <td>14</td>\n",
       "      <td>289700</td>\n",
       "      <td>Albania1987</td>\n",
       "      <td>Generation X</td>\n",
       "    </tr>\n",
       "    <tr>\n",
       "      <th>3</th>\n",
       "      <td>Albania</td>\n",
       "      <td>1987</td>\n",
       "      <td>male</td>\n",
       "      <td>75+ years</td>\n",
       "      <td>1</td>\n",
       "      <td>21800</td>\n",
       "      <td>Albania1987</td>\n",
       "      <td>G.I. Generation</td>\n",
       "    </tr>\n",
       "    <tr>\n",
       "      <th>4</th>\n",
       "      <td>Albania</td>\n",
       "      <td>1987</td>\n",
       "      <td>male</td>\n",
       "      <td>25-34 years</td>\n",
       "      <td>9</td>\n",
       "      <td>274300</td>\n",
       "      <td>Albania1987</td>\n",
       "      <td>Boomers</td>\n",
       "    </tr>\n",
       "    <tr>\n",
       "      <th>...</th>\n",
       "      <td>...</td>\n",
       "      <td>...</td>\n",
       "      <td>...</td>\n",
       "      <td>...</td>\n",
       "      <td>...</td>\n",
       "      <td>...</td>\n",
       "      <td>...</td>\n",
       "      <td>...</td>\n",
       "    </tr>\n",
       "    <tr>\n",
       "      <th>27815</th>\n",
       "      <td>Uzbekistan</td>\n",
       "      <td>2014</td>\n",
       "      <td>female</td>\n",
       "      <td>35-54 years</td>\n",
       "      <td>107</td>\n",
       "      <td>3620833</td>\n",
       "      <td>Uzbekistan2014</td>\n",
       "      <td>Generation X</td>\n",
       "    </tr>\n",
       "    <tr>\n",
       "      <th>27816</th>\n",
       "      <td>Uzbekistan</td>\n",
       "      <td>2014</td>\n",
       "      <td>female</td>\n",
       "      <td>75+ years</td>\n",
       "      <td>9</td>\n",
       "      <td>348465</td>\n",
       "      <td>Uzbekistan2014</td>\n",
       "      <td>Silent</td>\n",
       "    </tr>\n",
       "    <tr>\n",
       "      <th>27817</th>\n",
       "      <td>Uzbekistan</td>\n",
       "      <td>2014</td>\n",
       "      <td>male</td>\n",
       "      <td>5-14 years</td>\n",
       "      <td>60</td>\n",
       "      <td>2762158</td>\n",
       "      <td>Uzbekistan2014</td>\n",
       "      <td>Generation Z</td>\n",
       "    </tr>\n",
       "    <tr>\n",
       "      <th>27818</th>\n",
       "      <td>Uzbekistan</td>\n",
       "      <td>2014</td>\n",
       "      <td>female</td>\n",
       "      <td>5-14 years</td>\n",
       "      <td>44</td>\n",
       "      <td>2631600</td>\n",
       "      <td>Uzbekistan2014</td>\n",
       "      <td>Generation Z</td>\n",
       "    </tr>\n",
       "    <tr>\n",
       "      <th>27819</th>\n",
       "      <td>Uzbekistan</td>\n",
       "      <td>2014</td>\n",
       "      <td>female</td>\n",
       "      <td>55-74 years</td>\n",
       "      <td>21</td>\n",
       "      <td>1438935</td>\n",
       "      <td>Uzbekistan2014</td>\n",
       "      <td>Boomers</td>\n",
       "    </tr>\n",
       "  </tbody>\n",
       "</table>\n",
       "<p>27820 rows × 8 columns</p>\n",
       "</div>"
      ],
      "text/plain": [
       "          country  year     sex          age  suicides_no  population  \\\n",
       "0         Albania  1987    male  15-24 years           21      312900   \n",
       "1         Albania  1987    male  35-54 years           16      308000   \n",
       "2         Albania  1987  female  15-24 years           14      289700   \n",
       "3         Albania  1987    male    75+ years            1       21800   \n",
       "4         Albania  1987    male  25-34 years            9      274300   \n",
       "...           ...   ...     ...          ...          ...         ...   \n",
       "27815  Uzbekistan  2014  female  35-54 years          107     3620833   \n",
       "27816  Uzbekistan  2014  female    75+ years            9      348465   \n",
       "27817  Uzbekistan  2014    male   5-14 years           60     2762158   \n",
       "27818  Uzbekistan  2014  female   5-14 years           44     2631600   \n",
       "27819  Uzbekistan  2014  female  55-74 years           21     1438935   \n",
       "\n",
       "         country-year       generation  \n",
       "0         Albania1987     Generation X  \n",
       "1         Albania1987           Silent  \n",
       "2         Albania1987     Generation X  \n",
       "3         Albania1987  G.I. Generation  \n",
       "4         Albania1987          Boomers  \n",
       "...               ...              ...  \n",
       "27815  Uzbekistan2014     Generation X  \n",
       "27816  Uzbekistan2014           Silent  \n",
       "27817  Uzbekistan2014     Generation Z  \n",
       "27818  Uzbekistan2014     Generation Z  \n",
       "27819  Uzbekistan2014          Boomers  \n",
       "\n",
       "[27820 rows x 8 columns]"
      ]
     },
     "execution_count": 13,
     "metadata": {},
     "output_type": "execute_result"
    }
   ],
   "source": [
    "df"
   ]
  },
  {
   "cell_type": "code",
   "execution_count": 14,
   "id": "436a4308",
   "metadata": {},
   "outputs": [],
   "source": [
    "import seaborn as sns\n",
    "import matplotlib.pyplot as plt"
   ]
  },
  {
   "cell_type": "markdown",
   "id": "f40cf200",
   "metadata": {},
   "source": [
    "# Agrupamento por sexo"
   ]
  },
  {
   "cell_type": "code",
   "execution_count": 15,
   "id": "ea604bc8",
   "metadata": {},
   "outputs": [
    {
     "data": {
      "text/plain": [
       "<AxesSubplot:title={'center':'Taxa de suícido por sexo ao passsar dos anos'}, xlabel='Anos', ylabel='sex'>"
      ]
     },
     "execution_count": 15,
     "metadata": {},
     "output_type": "execute_result"
    },
    {
     "data": {
      "image/png": "[encoded data removed]",
      "text/plain": [
       "<Figure size 864x288 with 1 Axes>"
      ]
     },
     "metadata": {
      "needs_background": "light"
     },
     "output_type": "display_data"
    }
   ],
   "source": [
    "ax = sns.boxplot( x = 'year', y = 'sex', data = df, orient = 'h')\n",
    "ax.figure.set_size_inches(12, 4)\n",
    "ax.set_title('Taxa de suícido por sexo ao passsar dos anos', fontsize=18)\n",
    "ax.set_xlabel('Anos', fontsize=14)\n",
    "ax"
   ]
  },
  {
   "cell_type": "code",
   "execution_count": 16,
   "id": "c00bf4a0",
   "metadata": {},
   "outputs": [
    {
     "data": {
      "text/plain": [
       "<AxesSubplot:title={'center':'Taxa de suícido por sexo por e quantidade'}, xlabel='Quantidade', ylabel='sex'>"
      ]
     },
     "execution_count": 16,
     "metadata": {},
     "output_type": "execute_result"
    },
    {
     "data": {
      "image/png": "[encoded data removed]",
      "text/plain": [
       "<Figure size 864x288 with 1 Axes>"
      ]
     },
     "metadata": {
      "needs_background": "light"
     },
     "output_type": "display_data"
    }
   ],
   "source": [
    "ax = sns.boxplot( x = 'suicides_no', y = 'sex', data = df, orient = 'h')\n",
    "ax.figure.set_size_inches(12, 4)\n",
    "ax.set_title('Taxa de suícido por sexo por e quantidade', fontsize=18)\n",
    "ax.set_xlabel('Quantidade', fontsize=14)\n",
    "ax"
   ]
  },
  {
   "cell_type": "code",
   "execution_count": 17,
   "id": "b01b6ed7",
   "metadata": {},
   "outputs": [],
   "source": [
    "grupoSexo = df.groupby('sex')"
   ]
  },
  {
   "cell_type": "code",
   "execution_count": 18,
   "id": "118eaf1a",
   "metadata": {},
   "outputs": [
    {
     "data": {
      "text/plain": [
       "sex\n",
       "female    1559510\n",
       "male      5188910\n",
       "Name: suicides_no, dtype: int64"
      ]
     },
     "execution_count": 18,
     "metadata": {},
     "output_type": "execute_result"
    }
   ],
   "source": [
    "grupoSexo['suicides_no'].sum()"
   ]
  },
  {
   "cell_type": "code",
   "execution_count": 19,
   "id": "587210d9",
   "metadata": {},
   "outputs": [
    {
     "data": {
      "text/plain": [
       "232.72694628440985"
      ]
     },
     "execution_count": 19,
     "metadata": {},
     "output_type": "execute_result"
    }
   ],
   "source": [
    "proporcao = ((5188910 - 1559510) / 1559510) * 100\n",
    "proporcao"
   ]
  },
  {
   "cell_type": "code",
   "execution_count": 20,
   "id": "e06bfe0a",
   "metadata": {},
   "outputs": [
    {
     "data": {
      "text/plain": [
       "<AxesSubplot:ylabel='sex'>"
      ]
     },
     "execution_count": 20,
     "metadata": {},
     "output_type": "execute_result"
    },
    {
     "data": {
      "image/png": "[encoded data removed]",
      "text/plain": [
       "<Figure size 432x288 with 1 Axes>"
      ]
     },
     "metadata": {
      "needs_background": "light"
     },
     "output_type": "display_data"
    }
   ],
   "source": [
    "grupoSexo['suicides_no'].sum().plot.barh()"
   ]
  },
  {
   "cell_type": "markdown",
   "id": "19b24031",
   "metadata": {},
   "source": [
    "Acima pudemos ver claramente que a dominancia esmagadora na quantidade de total de suícidos é masculina, chegando ser 232,72% maior que a taxa da mulheres"
   ]
  },
  {
   "cell_type": "markdown",
   "id": "7dfd3682",
   "metadata": {},
   "source": [
    "agora iremos analisar o o desvio padrão para cada sexo"
   ]
  },
  {
   "cell_type": "markdown",
   "id": "f57c0a8d",
   "metadata": {},
   "source": [
    "Gostariamos de lembrar que o desvio padrão nada mais é do que o quanto em média "
   ]
  },
  {
   "cell_type": "code",
   "execution_count": 21,
   "id": "c58e3df6",
   "metadata": {},
   "outputs": [
    {
     "data": {
      "text/plain": [
       "sex\n",
       "female     333.491224\n",
       "male      1217.448508\n",
       "Name: suicides_no, dtype: float64"
      ]
     },
     "execution_count": 21,
     "metadata": {},
     "output_type": "execute_result"
    }
   ],
   "source": [
    "grupoSexo['suicides_no'].std()"
   ]
  },
  {
   "cell_type": "code",
   "execution_count": 22,
   "id": "f973bba1",
   "metadata": {},
   "outputs": [
    {
     "data": {
      "text/plain": [
       "<AxesSubplot:xlabel='sex'>"
      ]
     },
     "execution_count": 22,
     "metadata": {},
     "output_type": "execute_result"
    },
    {
     "data": {
      "image/png": "[encoded data removed]",
      "text/plain": [
       "<Figure size 432x288 with 1 Axes>"
      ]
     },
     "metadata": {
      "needs_background": "light"
     },
     "output_type": "display_data"
    }
   ],
   "source": [
    "grupoSexo['suicides_no'].std().plot.bar(color = 'orange')"
   ]
  },
  {
   "cell_type": "code",
   "execution_count": null,
   "id": "a1fa4679",
   "metadata": {},
   "outputs": [],
   "source": []
  },
  {
   "cell_type": "markdown",
   "id": "9c99d2c2",
   "metadata": {},
   "source": [
    "# Agrupamento por faixa etária"
   ]
  },
  {
   "cell_type": "code",
   "execution_count": 23,
   "id": "11de05eb",
   "metadata": {},
   "outputs": [],
   "source": [
    "grupoFaixa = df.groupby('age')"
   ]
  },
  {
   "cell_type": "code",
   "execution_count": 24,
   "id": "8f0f8b05",
   "metadata": {},
   "outputs": [
    {
     "data": {
      "text/plain": [
       "dict_keys(['15-24 years', '25-34 years', '35-54 years', '5-14 years', '55-74 years', '75+ years'])"
      ]
     },
     "execution_count": 24,
     "metadata": {},
     "output_type": "execute_result"
    }
   ],
   "source": [
    "grupoFaixa.groups.keys()"
   ]
  },
  {
   "cell_type": "code",
   "execution_count": 25,
   "id": "033e5d2e",
   "metadata": {},
   "outputs": [
    {
     "data": {
      "text/plain": [
       "<AxesSubplot:ylabel='age'>"
      ]
     },
     "execution_count": 25,
     "metadata": {},
     "output_type": "execute_result"
    },
    {
     "data": {
      "image/png": "[encoded data removed]",
      "text/plain": [
       "<Figure size 432x288 with 1 Axes>"
      ]
     },
     "metadata": {
      "needs_background": "light"
     },
     "output_type": "display_data"
    }
   ],
   "source": [
    "grupoFaixa['suicides_no'].sum().sort_values(ascending = True).plot.barh()"
   ]
  },
  {
   "cell_type": "markdown",
   "id": "4f25ab9e",
   "metadata": {},
   "source": [
    "E agora pudemos definir que a faixa etária com a maior quantidade de casos é entre 35 a 54 anos"
   ]
  },
  {
   "cell_type": "markdown",
   "id": "848d2a1b",
   "metadata": {},
   "source": [
    "# Agrupamento por geração"
   ]
  },
  {
   "cell_type": "code",
   "execution_count": 26,
   "id": "8f4612f5",
   "metadata": {},
   "outputs": [
    {
     "data": {
      "text/html": [
       "<div>\n",
       "<style scoped>\n",
       "    .dataframe tbody tr th:only-of-type {\n",
       "        vertical-align: middle;\n",
       "    }\n",
       "\n",
       "    .dataframe tbody tr th {\n",
       "        vertical-align: top;\n",
       "    }\n",
       "\n",
       "    .dataframe thead th {\n",
       "        text-align: right;\n",
       "    }\n",
       "</style>\n",
       "<table border=\"1\" class=\"dataframe\">\n",
       "  <thead>\n",
       "    <tr style=\"text-align: right;\">\n",
       "      <th></th>\n",
       "      <th>country</th>\n",
       "      <th>year</th>\n",
       "      <th>sex</th>\n",
       "      <th>age</th>\n",
       "      <th>suicides_no</th>\n",
       "      <th>population</th>\n",
       "      <th>country-year</th>\n",
       "      <th>generation</th>\n",
       "    </tr>\n",
       "  </thead>\n",
       "  <tbody>\n",
       "    <tr>\n",
       "      <th>0</th>\n",
       "      <td>Albania</td>\n",
       "      <td>1987</td>\n",
       "      <td>male</td>\n",
       "      <td>15-24 years</td>\n",
       "      <td>21</td>\n",
       "      <td>312900</td>\n",
       "      <td>Albania1987</td>\n",
       "      <td>Generation X</td>\n",
       "    </tr>\n",
       "    <tr>\n",
       "      <th>1</th>\n",
       "      <td>Albania</td>\n",
       "      <td>1987</td>\n",
       "      <td>male</td>\n",
       "      <td>35-54 years</td>\n",
       "      <td>16</td>\n",
       "      <td>308000</td>\n",
       "      <td>Albania1987</td>\n",
       "      <td>Silent</td>\n",
       "    </tr>\n",
       "    <tr>\n",
       "      <th>2</th>\n",
       "      <td>Albania</td>\n",
       "      <td>1987</td>\n",
       "      <td>female</td>\n",
       "      <td>15-24 years</td>\n",
       "      <td>14</td>\n",
       "      <td>289700</td>\n",
       "      <td>Albania1987</td>\n",
       "      <td>Generation X</td>\n",
       "    </tr>\n",
       "    <tr>\n",
       "      <th>3</th>\n",
       "      <td>Albania</td>\n",
       "      <td>1987</td>\n",
       "      <td>male</td>\n",
       "      <td>75+ years</td>\n",
       "      <td>1</td>\n",
       "      <td>21800</td>\n",
       "      <td>Albania1987</td>\n",
       "      <td>G.I. Generation</td>\n",
       "    </tr>\n",
       "    <tr>\n",
       "      <th>4</th>\n",
       "      <td>Albania</td>\n",
       "      <td>1987</td>\n",
       "      <td>male</td>\n",
       "      <td>25-34 years</td>\n",
       "      <td>9</td>\n",
       "      <td>274300</td>\n",
       "      <td>Albania1987</td>\n",
       "      <td>Boomers</td>\n",
       "    </tr>\n",
       "    <tr>\n",
       "      <th>...</th>\n",
       "      <td>...</td>\n",
       "      <td>...</td>\n",
       "      <td>...</td>\n",
       "      <td>...</td>\n",
       "      <td>...</td>\n",
       "      <td>...</td>\n",
       "      <td>...</td>\n",
       "      <td>...</td>\n",
       "    </tr>\n",
       "    <tr>\n",
       "      <th>27815</th>\n",
       "      <td>Uzbekistan</td>\n",
       "      <td>2014</td>\n",
       "      <td>female</td>\n",
       "      <td>35-54 years</td>\n",
       "      <td>107</td>\n",
       "      <td>3620833</td>\n",
       "      <td>Uzbekistan2014</td>\n",
       "      <td>Generation X</td>\n",
       "    </tr>\n",
       "    <tr>\n",
       "      <th>27816</th>\n",
       "      <td>Uzbekistan</td>\n",
       "      <td>2014</td>\n",
       "      <td>female</td>\n",
       "      <td>75+ years</td>\n",
       "      <td>9</td>\n",
       "      <td>348465</td>\n",
       "      <td>Uzbekistan2014</td>\n",
       "      <td>Silent</td>\n",
       "    </tr>\n",
       "    <tr>\n",
       "      <th>27817</th>\n",
       "      <td>Uzbekistan</td>\n",
       "      <td>2014</td>\n",
       "      <td>male</td>\n",
       "      <td>5-14 years</td>\n",
       "      <td>60</td>\n",
       "      <td>2762158</td>\n",
       "      <td>Uzbekistan2014</td>\n",
       "      <td>Generation Z</td>\n",
       "    </tr>\n",
       "    <tr>\n",
       "      <th>27818</th>\n",
       "      <td>Uzbekistan</td>\n",
       "      <td>2014</td>\n",
       "      <td>female</td>\n",
       "      <td>5-14 years</td>\n",
       "      <td>44</td>\n",
       "      <td>2631600</td>\n",
       "      <td>Uzbekistan2014</td>\n",
       "      <td>Generation Z</td>\n",
       "    </tr>\n",
       "    <tr>\n",
       "      <th>27819</th>\n",
       "      <td>Uzbekistan</td>\n",
       "      <td>2014</td>\n",
       "      <td>female</td>\n",
       "      <td>55-74 years</td>\n",
       "      <td>21</td>\n",
       "      <td>1438935</td>\n",
       "      <td>Uzbekistan2014</td>\n",
       "      <td>Boomers</td>\n",
       "    </tr>\n",
       "  </tbody>\n",
       "</table>\n",
       "<p>27820 rows × 8 columns</p>\n",
       "</div>"
      ],
      "text/plain": [
       "          country  year     sex          age  suicides_no  population  \\\n",
       "0         Albania  1987    male  15-24 years           21      312900   \n",
       "1         Albania  1987    male  35-54 years           16      308000   \n",
       "2         Albania  1987  female  15-24 years           14      289700   \n",
       "3         Albania  1987    male    75+ years            1       21800   \n",
       "4         Albania  1987    male  25-34 years            9      274300   \n",
       "...           ...   ...     ...          ...          ...         ...   \n",
       "27815  Uzbekistan  2014  female  35-54 years          107     3620833   \n",
       "27816  Uzbekistan  2014  female    75+ years            9      348465   \n",
       "27817  Uzbekistan  2014    male   5-14 years           60     2762158   \n",
       "27818  Uzbekistan  2014  female   5-14 years           44     2631600   \n",
       "27819  Uzbekistan  2014  female  55-74 years           21     1438935   \n",
       "\n",
       "         country-year       generation  \n",
       "0         Albania1987     Generation X  \n",
       "1         Albania1987           Silent  \n",
       "2         Albania1987     Generation X  \n",
       "3         Albania1987  G.I. Generation  \n",
       "4         Albania1987          Boomers  \n",
       "...               ...              ...  \n",
       "27815  Uzbekistan2014     Generation X  \n",
       "27816  Uzbekistan2014           Silent  \n",
       "27817  Uzbekistan2014     Generation Z  \n",
       "27818  Uzbekistan2014     Generation Z  \n",
       "27819  Uzbekistan2014          Boomers  \n",
       "\n",
       "[27820 rows x 8 columns]"
      ]
     },
     "execution_count": 26,
     "metadata": {},
     "output_type": "execute_result"
    }
   ],
   "source": [
    "df"
   ]
  },
  {
   "cell_type": "code",
   "execution_count": 27,
   "id": "99504438",
   "metadata": {},
   "outputs": [],
   "source": [
    "grupoGeracao = df.groupby('generation')"
   ]
  },
  {
   "cell_type": "code",
   "execution_count": 28,
   "id": "3f89ce25",
   "metadata": {},
   "outputs": [
    {
     "data": {
      "text/plain": [
       "generation\n",
       "Boomers            2284498\n",
       "G.I. Generation     510009\n",
       "Generation X       1532804\n",
       "Generation Z         15906\n",
       "Millenials          623459\n",
       "Silent             1781744\n",
       "Name: suicides_no, dtype: int64"
      ]
     },
     "execution_count": 28,
     "metadata": {},
     "output_type": "execute_result"
    }
   ],
   "source": [
    "grupoGeracao['suicides_no'].sum()"
   ]
  },
  {
   "cell_type": "code",
   "execution_count": 29,
   "id": "60c1a64c",
   "metadata": {},
   "outputs": [
    {
     "data": {
      "text/plain": [
       "<AxesSubplot:ylabel='generation'>"
      ]
     },
     "execution_count": 29,
     "metadata": {},
     "output_type": "execute_result"
    },
    {
     "data": {
      "image/png": "[encoded data removed]",
      "text/plain": [
       "<Figure size 432x288 with 1 Axes>"
      ]
     },
     "metadata": {
      "needs_background": "light"
     },
     "output_type": "display_data"
    }
   ],
   "source": [
    "grupoGeracao['suicides_no'].sum().sort_values(ascending = True).plot.barh()"
   ]
  },
  {
   "cell_type": "markdown",
   "id": "91f829d8",
   "metadata": {},
   "source": [
    "Ao que pudermos analisar, a gereção boomers liderou o ranking, poré, Quem são os Baby Boomers? \n",
    " \n",
    "\n",
    "Os Baby Boomers são os nascidos entre 1945 e 1964. O termo, em inglês, se refere ao boom demográfico ocorrido nos Estados Unidos durante esse período."
   ]
  },
  {
   "cell_type": "markdown",
   "id": "6f2582f8",
   "metadata": {},
   "source": [
    "# Agrupapamento por população"
   ]
  },
  {
   "cell_type": "markdown",
   "id": "7af11c32",
   "metadata": {},
   "source": [
    "Antes de iniciarmos as comarações por polação,  iremos saliente que, faremos comparativo com um somatório da população de cada país, considerando todos os anos em que foi registrado, pois, conforme podemos perceber, o este DataSet apresenta uma quantidade de uma população de acordo com o ano, então, temos números de de população diferente para a um mesmo país, porém, para anos diferentes, conforme apresentado abaixo"
   ]
  },
  {
   "cell_type": "code",
   "execution_count": 30,
   "id": "d2fe44d1",
   "metadata": {},
   "outputs": [
    {
     "data": {
      "text/html": [
       "<div>\n",
       "<style scoped>\n",
       "    .dataframe tbody tr th:only-of-type {\n",
       "        vertical-align: middle;\n",
       "    }\n",
       "\n",
       "    .dataframe tbody tr th {\n",
       "        vertical-align: top;\n",
       "    }\n",
       "\n",
       "    .dataframe thead th {\n",
       "        text-align: right;\n",
       "    }\n",
       "</style>\n",
       "<table border=\"1\" class=\"dataframe\">\n",
       "  <thead>\n",
       "    <tr style=\"text-align: right;\">\n",
       "      <th></th>\n",
       "      <th>Numero de vezes que aparece na lista</th>\n",
       "    </tr>\n",
       "    <tr>\n",
       "      <th>country</th>\n",
       "      <th></th>\n",
       "    </tr>\n",
       "  </thead>\n",
       "  <tbody>\n",
       "    <tr>\n",
       "      <th>Mauritius</th>\n",
       "      <td>382</td>\n",
       "    </tr>\n",
       "    <tr>\n",
       "      <th>Austria</th>\n",
       "      <td>382</td>\n",
       "    </tr>\n",
       "    <tr>\n",
       "      <th>Netherlands</th>\n",
       "      <td>382</td>\n",
       "    </tr>\n",
       "    <tr>\n",
       "      <th>Iceland</th>\n",
       "      <td>382</td>\n",
       "    </tr>\n",
       "    <tr>\n",
       "      <th>Brazil</th>\n",
       "      <td>372</td>\n",
       "    </tr>\n",
       "    <tr>\n",
       "      <th>Singapore</th>\n",
       "      <td>372</td>\n",
       "    </tr>\n",
       "    <tr>\n",
       "      <th>Ecuador</th>\n",
       "      <td>372</td>\n",
       "    </tr>\n",
       "    <tr>\n",
       "      <th>Spain</th>\n",
       "      <td>372</td>\n",
       "    </tr>\n",
       "    <tr>\n",
       "      <th>Puerto Rico</th>\n",
       "      <td>372</td>\n",
       "    </tr>\n",
       "    <tr>\n",
       "      <th>Mexico</th>\n",
       "      <td>372</td>\n",
       "    </tr>\n",
       "    <tr>\n",
       "      <th>Greece</th>\n",
       "      <td>372</td>\n",
       "    </tr>\n",
       "    <tr>\n",
       "      <th>Colombia</th>\n",
       "      <td>372</td>\n",
       "    </tr>\n",
       "    <tr>\n",
       "      <th>Chile</th>\n",
       "      <td>372</td>\n",
       "    </tr>\n",
       "    <tr>\n",
       "      <th>Luxembourg</th>\n",
       "      <td>372</td>\n",
       "    </tr>\n",
       "    <tr>\n",
       "      <th>Malta</th>\n",
       "      <td>372</td>\n",
       "    </tr>\n",
       "    <tr>\n",
       "      <th>Republic of Korea</th>\n",
       "      <td>372</td>\n",
       "    </tr>\n",
       "    <tr>\n",
       "      <th>Belgium</th>\n",
       "      <td>372</td>\n",
       "    </tr>\n",
       "    <tr>\n",
       "      <th>Israel</th>\n",
       "      <td>372</td>\n",
       "    </tr>\n",
       "    <tr>\n",
       "      <th>United Kingdom</th>\n",
       "      <td>372</td>\n",
       "    </tr>\n",
       "    <tr>\n",
       "      <th>United States</th>\n",
       "      <td>372</td>\n",
       "    </tr>\n",
       "  </tbody>\n",
       "</table>\n",
       "</div>"
      ],
      "text/plain": [
       "                   Numero de vezes que aparece na lista\n",
       "country                                                \n",
       "Mauritius                                           382\n",
       "Austria                                             382\n",
       "Netherlands                                         382\n",
       "Iceland                                             382\n",
       "Brazil                                              372\n",
       "Singapore                                           372\n",
       "Ecuador                                             372\n",
       "Spain                                               372\n",
       "Puerto Rico                                         372\n",
       "Mexico                                              372\n",
       "Greece                                              372\n",
       "Colombia                                            372\n",
       "Chile                                               372\n",
       "Luxembourg                                          372\n",
       "Malta                                               372\n",
       "Republic of Korea                                   372\n",
       "Belgium                                             372\n",
       "Israel                                              372\n",
       "United Kingdom                                      372\n",
       "United States                                       372"
      ]
     },
     "execution_count": 30,
     "metadata": {},
     "output_type": "execute_result"
    }
   ],
   "source": [
    "pd.DataFrame (df[['country']].value_counts().head(20), columns = ['Numero de vezes que aparece na lista'])"
   ]
  },
  {
   "cell_type": "code",
   "execution_count": 31,
   "id": "e64670c9",
   "metadata": {},
   "outputs": [],
   "source": [
    "grupoPopulacao = df.groupby('population')"
   ]
  },
  {
   "cell_type": "code",
   "execution_count": 32,
   "id": "8bfc1372",
   "metadata": {},
   "outputs": [
    {
     "data": {
      "text/html": [
       "<div>\n",
       "<style scoped>\n",
       "    .dataframe tbody tr th:only-of-type {\n",
       "        vertical-align: middle;\n",
       "    }\n",
       "\n",
       "    .dataframe tbody tr th {\n",
       "        vertical-align: top;\n",
       "    }\n",
       "\n",
       "    .dataframe thead th {\n",
       "        text-align: right;\n",
       "    }\n",
       "</style>\n",
       "<table border=\"1\" class=\"dataframe\">\n",
       "  <thead>\n",
       "    <tr style=\"text-align: right;\">\n",
       "      <th></th>\n",
       "      <th>country</th>\n",
       "      <th>year</th>\n",
       "      <th>sex</th>\n",
       "      <th>age</th>\n",
       "      <th>suicides_no</th>\n",
       "      <th>population</th>\n",
       "      <th>country-year</th>\n",
       "      <th>generation</th>\n",
       "    </tr>\n",
       "  </thead>\n",
       "  <tbody>\n",
       "    <tr>\n",
       "      <th>0</th>\n",
       "      <td>Albania</td>\n",
       "      <td>1987</td>\n",
       "      <td>male</td>\n",
       "      <td>15-24 years</td>\n",
       "      <td>21</td>\n",
       "      <td>312900</td>\n",
       "      <td>Albania1987</td>\n",
       "      <td>Generation X</td>\n",
       "    </tr>\n",
       "    <tr>\n",
       "      <th>1</th>\n",
       "      <td>Albania</td>\n",
       "      <td>1987</td>\n",
       "      <td>male</td>\n",
       "      <td>35-54 years</td>\n",
       "      <td>16</td>\n",
       "      <td>308000</td>\n",
       "      <td>Albania1987</td>\n",
       "      <td>Silent</td>\n",
       "    </tr>\n",
       "    <tr>\n",
       "      <th>2</th>\n",
       "      <td>Albania</td>\n",
       "      <td>1987</td>\n",
       "      <td>female</td>\n",
       "      <td>15-24 years</td>\n",
       "      <td>14</td>\n",
       "      <td>289700</td>\n",
       "      <td>Albania1987</td>\n",
       "      <td>Generation X</td>\n",
       "    </tr>\n",
       "    <tr>\n",
       "      <th>3</th>\n",
       "      <td>Albania</td>\n",
       "      <td>1987</td>\n",
       "      <td>male</td>\n",
       "      <td>75+ years</td>\n",
       "      <td>1</td>\n",
       "      <td>21800</td>\n",
       "      <td>Albania1987</td>\n",
       "      <td>G.I. Generation</td>\n",
       "    </tr>\n",
       "    <tr>\n",
       "      <th>4</th>\n",
       "      <td>Albania</td>\n",
       "      <td>1987</td>\n",
       "      <td>male</td>\n",
       "      <td>25-34 years</td>\n",
       "      <td>9</td>\n",
       "      <td>274300</td>\n",
       "      <td>Albania1987</td>\n",
       "      <td>Boomers</td>\n",
       "    </tr>\n",
       "  </tbody>\n",
       "</table>\n",
       "</div>"
      ],
      "text/plain": [
       "   country  year     sex          age  suicides_no  population country-year  \\\n",
       "0  Albania  1987    male  15-24 years           21      312900  Albania1987   \n",
       "1  Albania  1987    male  35-54 years           16      308000  Albania1987   \n",
       "2  Albania  1987  female  15-24 years           14      289700  Albania1987   \n",
       "3  Albania  1987    male    75+ years            1       21800  Albania1987   \n",
       "4  Albania  1987    male  25-34 years            9      274300  Albania1987   \n",
       "\n",
       "        generation  \n",
       "0     Generation X  \n",
       "1           Silent  \n",
       "2     Generation X  \n",
       "3  G.I. Generation  \n",
       "4          Boomers  "
      ]
     },
     "execution_count": 32,
     "metadata": {},
     "output_type": "execute_result"
    }
   ],
   "source": [
    "df.head(5)"
   ]
  },
  {
   "cell_type": "code",
   "execution_count": 33,
   "id": "2c845494",
   "metadata": {},
   "outputs": [
    {
     "data": {
      "text/html": [
       "<div>\n",
       "<style scoped>\n",
       "    .dataframe tbody tr th:only-of-type {\n",
       "        vertical-align: middle;\n",
       "    }\n",
       "\n",
       "    .dataframe tbody tr th {\n",
       "        vertical-align: top;\n",
       "    }\n",
       "\n",
       "    .dataframe thead th {\n",
       "        text-align: right;\n",
       "    }\n",
       "</style>\n",
       "<table border=\"1\" class=\"dataframe\">\n",
       "  <thead>\n",
       "    <tr style=\"text-align: right;\">\n",
       "      <th></th>\n",
       "      <th>suicides_no</th>\n",
       "    </tr>\n",
       "    <tr>\n",
       "      <th>population</th>\n",
       "      <th></th>\n",
       "    </tr>\n",
       "  </thead>\n",
       "  <tbody>\n",
       "    <tr>\n",
       "      <th>43805214</th>\n",
       "      <td>3376</td>\n",
       "    </tr>\n",
       "    <tr>\n",
       "      <th>43607902</th>\n",
       "      <td>3525</td>\n",
       "    </tr>\n",
       "    <tr>\n",
       "      <th>43509335</th>\n",
       "      <td>3209</td>\n",
       "    </tr>\n",
       "    <tr>\n",
       "      <th>43240905</th>\n",
       "      <td>3399</td>\n",
       "    </tr>\n",
       "    <tr>\n",
       "      <th>43139910</th>\n",
       "      <td>10641</td>\n",
       "    </tr>\n",
       "    <tr>\n",
       "      <th>43002471</th>\n",
       "      <td>11371</td>\n",
       "    </tr>\n",
       "    <tr>\n",
       "      <th>42997878</th>\n",
       "      <td>3058</td>\n",
       "    </tr>\n",
       "    <tr>\n",
       "      <th>42992076</th>\n",
       "      <td>10978</td>\n",
       "    </tr>\n",
       "    <tr>\n",
       "      <th>42957716</th>\n",
       "      <td>3058</td>\n",
       "    </tr>\n",
       "    <tr>\n",
       "      <th>42932194</th>\n",
       "      <td>11613</td>\n",
       "    </tr>\n",
       "  </tbody>\n",
       "</table>\n",
       "</div>"
      ],
      "text/plain": [
       "            suicides_no\n",
       "population             \n",
       "43805214           3376\n",
       "43607902           3525\n",
       "43509335           3209\n",
       "43240905           3399\n",
       "43139910          10641\n",
       "43002471          11371\n",
       "42997878           3058\n",
       "42992076          10978\n",
       "42957716           3058\n",
       "42932194          11613"
      ]
     },
     "execution_count": 33,
     "metadata": {},
     "output_type": "execute_result"
    }
   ],
   "source": [
    "grupoPopulacao[['suicides_no','country']].sum().sort_values(by = 'population',ascending = False).head(10)"
   ]
  },
  {
   "cell_type": "code",
   "execution_count": 34,
   "id": "9124d2db",
   "metadata": {},
   "outputs": [
    {
     "data": {
      "text/plain": [
       "<AxesSubplot:ylabel='population'>"
      ]
     },
     "execution_count": 34,
     "metadata": {},
     "output_type": "execute_result"
    },
    {
     "data": {
      "image/png": "[encoded data removed]",
      "text/plain": [
       "<Figure size 432x288 with 1 Axes>"
      ]
     },
     "metadata": {
      "needs_background": "light"
     },
     "output_type": "display_data"
    }
   ],
   "source": [
    "grupoPopulacao[['suicides_no','country']].sum().sort_values(by = 'population',ascending = False).head(10).plot.barh()"
   ]
  },
  {
   "cell_type": "markdown",
   "id": "332f2ab9",
   "metadata": {},
   "source": [
    "Aqui já podemos observar um comportamento peculiar\n",
    "è esperado que os países mais populosos seja os que tenham as maiores quantidades de registros de suícidos, porém, não é bem o que acontece nos dados acima"
   ]
  },
  {
   "cell_type": "code",
   "execution_count": 35,
   "id": "6c9ca318",
   "metadata": {},
   "outputs": [
    {
     "name": "stderr",
     "output_type": "stream",
     "text": [
      "<ipython-input-35-6a666d2f5781>:1: FutureWarning: Indexing with multiple keys (implicitly converted to a tuple of keys) will be deprecated, use a list instead.\n",
      "  grupoPais['population','suicides_no'].sum().sort_values(by = 'suicides_no', ascending = False).head(20)\n"
     ]
    },
    {
     "data": {
      "text/html": [
       "<div>\n",
       "<style scoped>\n",
       "    .dataframe tbody tr th:only-of-type {\n",
       "        vertical-align: middle;\n",
       "    }\n",
       "\n",
       "    .dataframe tbody tr th {\n",
       "        vertical-align: top;\n",
       "    }\n",
       "\n",
       "    .dataframe thead th {\n",
       "        text-align: right;\n",
       "    }\n",
       "</style>\n",
       "<table border=\"1\" class=\"dataframe\">\n",
       "  <thead>\n",
       "    <tr style=\"text-align: right;\">\n",
       "      <th></th>\n",
       "      <th>population</th>\n",
       "      <th>suicides_no</th>\n",
       "    </tr>\n",
       "    <tr>\n",
       "      <th>country</th>\n",
       "      <th></th>\n",
       "      <th></th>\n",
       "    </tr>\n",
       "  </thead>\n",
       "  <tbody>\n",
       "    <tr>\n",
       "      <th>Russian Federation</th>\n",
       "      <td>3690802620</td>\n",
       "      <td>1209742</td>\n",
       "    </tr>\n",
       "    <tr>\n",
       "      <th>United States</th>\n",
       "      <td>8054027201</td>\n",
       "      <td>1034013</td>\n",
       "    </tr>\n",
       "    <tr>\n",
       "      <th>Japan</th>\n",
       "      <td>3681024844</td>\n",
       "      <td>806902</td>\n",
       "    </tr>\n",
       "    <tr>\n",
       "      <th>France</th>\n",
       "      <td>1670756775</td>\n",
       "      <td>329127</td>\n",
       "    </tr>\n",
       "    <tr>\n",
       "      <th>Ukraine</th>\n",
       "      <td>1286469184</td>\n",
       "      <td>319950</td>\n",
       "    </tr>\n",
       "    <tr>\n",
       "      <th>Germany</th>\n",
       "      <td>2024875612</td>\n",
       "      <td>291262</td>\n",
       "    </tr>\n",
       "    <tr>\n",
       "      <th>Republic of Korea</th>\n",
       "      <td>1354944936</td>\n",
       "      <td>261730</td>\n",
       "    </tr>\n",
       "    <tr>\n",
       "      <th>Brazil</th>\n",
       "      <td>4856093548</td>\n",
       "      <td>226613</td>\n",
       "    </tr>\n",
       "    <tr>\n",
       "      <th>Poland</th>\n",
       "      <td>866180029</td>\n",
       "      <td>139098</td>\n",
       "    </tr>\n",
       "    <tr>\n",
       "      <th>United Kingdom</th>\n",
       "      <td>1738767780</td>\n",
       "      <td>136805</td>\n",
       "    </tr>\n",
       "    <tr>\n",
       "      <th>Italy</th>\n",
       "      <td>1715043704</td>\n",
       "      <td>132060</td>\n",
       "    </tr>\n",
       "    <tr>\n",
       "      <th>Mexico</th>\n",
       "      <td>2772959159</td>\n",
       "      <td>111139</td>\n",
       "    </tr>\n",
       "    <tr>\n",
       "      <th>Thailand</th>\n",
       "      <td>1584800281</td>\n",
       "      <td>110643</td>\n",
       "    </tr>\n",
       "    <tr>\n",
       "      <th>Canada</th>\n",
       "      <td>826052183</td>\n",
       "      <td>107561</td>\n",
       "    </tr>\n",
       "    <tr>\n",
       "      <th>Kazakhstan</th>\n",
       "      <td>377513869</td>\n",
       "      <td>101546</td>\n",
       "    </tr>\n",
       "    <tr>\n",
       "      <th>Spain</th>\n",
       "      <td>1227661095</td>\n",
       "      <td>100202</td>\n",
       "    </tr>\n",
       "    <tr>\n",
       "      <th>Argentina</th>\n",
       "      <td>1035985431</td>\n",
       "      <td>82219</td>\n",
       "    </tr>\n",
       "    <tr>\n",
       "      <th>Hungary</th>\n",
       "      <td>248644256</td>\n",
       "      <td>73891</td>\n",
       "    </tr>\n",
       "    <tr>\n",
       "      <th>Romania</th>\n",
       "      <td>575065963</td>\n",
       "      <td>72777</td>\n",
       "    </tr>\n",
       "    <tr>\n",
       "      <th>Australia</th>\n",
       "      <td>542377786</td>\n",
       "      <td>70111</td>\n",
       "    </tr>\n",
       "  </tbody>\n",
       "</table>\n",
       "</div>"
      ],
      "text/plain": [
       "                    population  suicides_no\n",
       "country                                    \n",
       "Russian Federation  3690802620      1209742\n",
       "United States       8054027201      1034013\n",
       "Japan               3681024844       806902\n",
       "France              1670756775       329127\n",
       "Ukraine             1286469184       319950\n",
       "Germany             2024875612       291262\n",
       "Republic of Korea   1354944936       261730\n",
       "Brazil              4856093548       226613\n",
       "Poland               866180029       139098\n",
       "United Kingdom      1738767780       136805\n",
       "Italy               1715043704       132060\n",
       "Mexico              2772959159       111139\n",
       "Thailand            1584800281       110643\n",
       "Canada               826052183       107561\n",
       "Kazakhstan           377513869       101546\n",
       "Spain               1227661095       100202\n",
       "Argentina           1035985431        82219\n",
       "Hungary              248644256        73891\n",
       "Romania              575065963        72777\n",
       "Australia            542377786        70111"
      ]
     },
     "execution_count": 35,
     "metadata": {},
     "output_type": "execute_result"
    }
   ],
   "source": [
    "grupoPais['population','suicides_no'].sum().sort_values(by = 'suicides_no', ascending = False).head(20)"
   ]
  },
  {
   "cell_type": "markdown",
   "id": "3f1e717f",
   "metadata": {},
   "source": [
    "Na comparação acima, podemos associar que um país com uma população maior, induz uma quantidade maior de casos, mas não é um regra."
   ]
  },
  {
   "cell_type": "markdown",
   "id": "6e521f01",
   "metadata": {},
   "source": [
    "# Agrupamento por ano"
   ]
  },
  {
   "cell_type": "markdown",
   "id": "f22cd421",
   "metadata": {},
   "source": [
    "iremos verificar quais anos tivemos os maiores registros de suicídio"
   ]
  },
  {
   "cell_type": "code",
   "execution_count": 36,
   "id": "1dc12fb0",
   "metadata": {},
   "outputs": [],
   "source": [
    "grupoAno = df.groupby('year')"
   ]
  },
  {
   "cell_type": "code",
   "execution_count": 37,
   "id": "7d2e95e4",
   "metadata": {},
   "outputs": [
    {
     "data": {
      "text/html": [
       "<div>\n",
       "<style scoped>\n",
       "    .dataframe tbody tr th:only-of-type {\n",
       "        vertical-align: middle;\n",
       "    }\n",
       "\n",
       "    .dataframe tbody tr th {\n",
       "        vertical-align: top;\n",
       "    }\n",
       "\n",
       "    .dataframe thead th {\n",
       "        text-align: right;\n",
       "    }\n",
       "</style>\n",
       "<table border=\"1\" class=\"dataframe\">\n",
       "  <thead>\n",
       "    <tr style=\"text-align: right;\">\n",
       "      <th></th>\n",
       "      <th>suicides_no</th>\n",
       "    </tr>\n",
       "    <tr>\n",
       "      <th>year</th>\n",
       "      <th></th>\n",
       "    </tr>\n",
       "  </thead>\n",
       "  <tbody>\n",
       "    <tr>\n",
       "      <th>1999</th>\n",
       "      <td>256119</td>\n",
       "    </tr>\n",
       "    <tr>\n",
       "      <th>2002</th>\n",
       "      <td>256095</td>\n",
       "    </tr>\n",
       "    <tr>\n",
       "      <th>2003</th>\n",
       "      <td>256079</td>\n",
       "    </tr>\n",
       "    <tr>\n",
       "      <th>2000</th>\n",
       "      <td>255832</td>\n",
       "    </tr>\n",
       "    <tr>\n",
       "      <th>2001</th>\n",
       "      <td>250652</td>\n",
       "    </tr>\n",
       "    <tr>\n",
       "      <th>1998</th>\n",
       "      <td>249591</td>\n",
       "    </tr>\n",
       "    <tr>\n",
       "      <th>1996</th>\n",
       "      <td>246725</td>\n",
       "    </tr>\n",
       "    <tr>\n",
       "      <th>1995</th>\n",
       "      <td>243544</td>\n",
       "    </tr>\n",
       "    <tr>\n",
       "      <th>2009</th>\n",
       "      <td>243487</td>\n",
       "    </tr>\n",
       "    <tr>\n",
       "      <th>2004</th>\n",
       "      <td>240861</td>\n",
       "    </tr>\n",
       "    <tr>\n",
       "      <th>1997</th>\n",
       "      <td>240745</td>\n",
       "    </tr>\n",
       "    <tr>\n",
       "      <th>2010</th>\n",
       "      <td>238702</td>\n",
       "    </tr>\n",
       "    <tr>\n",
       "      <th>2011</th>\n",
       "      <td>236484</td>\n",
       "    </tr>\n",
       "    <tr>\n",
       "      <th>2008</th>\n",
       "      <td>235447</td>\n",
       "    </tr>\n",
       "    <tr>\n",
       "      <th>2005</th>\n",
       "      <td>234375</td>\n",
       "    </tr>\n",
       "    <tr>\n",
       "      <th>2007</th>\n",
       "      <td>233408</td>\n",
       "    </tr>\n",
       "    <tr>\n",
       "      <th>2006</th>\n",
       "      <td>233361</td>\n",
       "    </tr>\n",
       "    <tr>\n",
       "      <th>1994</th>\n",
       "      <td>232063</td>\n",
       "    </tr>\n",
       "    <tr>\n",
       "      <th>2012</th>\n",
       "      <td>230160</td>\n",
       "    </tr>\n",
       "    <tr>\n",
       "      <th>2013</th>\n",
       "      <td>223199</td>\n",
       "    </tr>\n",
       "    <tr>\n",
       "      <th>2014</th>\n",
       "      <td>222984</td>\n",
       "    </tr>\n",
       "    <tr>\n",
       "      <th>1993</th>\n",
       "      <td>221565</td>\n",
       "    </tr>\n",
       "    <tr>\n",
       "      <th>1992</th>\n",
       "      <td>211473</td>\n",
       "    </tr>\n",
       "    <tr>\n",
       "      <th>2015</th>\n",
       "      <td>203640</td>\n",
       "    </tr>\n",
       "    <tr>\n",
       "      <th>1991</th>\n",
       "      <td>198020</td>\n",
       "    </tr>\n",
       "    <tr>\n",
       "      <th>1990</th>\n",
       "      <td>193361</td>\n",
       "    </tr>\n",
       "    <tr>\n",
       "      <th>1989</th>\n",
       "      <td>160244</td>\n",
       "    </tr>\n",
       "    <tr>\n",
       "      <th>1987</th>\n",
       "      <td>126842</td>\n",
       "    </tr>\n",
       "    <tr>\n",
       "      <th>1988</th>\n",
       "      <td>121026</td>\n",
       "    </tr>\n",
       "    <tr>\n",
       "      <th>1986</th>\n",
       "      <td>120670</td>\n",
       "    </tr>\n",
       "    <tr>\n",
       "      <th>1985</th>\n",
       "      <td>116063</td>\n",
       "    </tr>\n",
       "    <tr>\n",
       "      <th>2016</th>\n",
       "      <td>15603</td>\n",
       "    </tr>\n",
       "  </tbody>\n",
       "</table>\n",
       "</div>"
      ],
      "text/plain": [
       "      suicides_no\n",
       "year             \n",
       "1999       256119\n",
       "2002       256095\n",
       "2003       256079\n",
       "2000       255832\n",
       "2001       250652\n",
       "1998       249591\n",
       "1996       246725\n",
       "1995       243544\n",
       "2009       243487\n",
       "2004       240861\n",
       "1997       240745\n",
       "2010       238702\n",
       "2011       236484\n",
       "2008       235447\n",
       "2005       234375\n",
       "2007       233408\n",
       "2006       233361\n",
       "1994       232063\n",
       "2012       230160\n",
       "2013       223199\n",
       "2014       222984\n",
       "1993       221565\n",
       "1992       211473\n",
       "2015       203640\n",
       "1991       198020\n",
       "1990       193361\n",
       "1989       160244\n",
       "1987       126842\n",
       "1988       121026\n",
       "1986       120670\n",
       "1985       116063\n",
       "2016        15603"
      ]
     },
     "execution_count": 37,
     "metadata": {},
     "output_type": "execute_result"
    }
   ],
   "source": [
    "pd.DataFrame(grupoAno['suicides_no'].sum().sort_values(ascending = False))"
   ]
  },
  {
   "cell_type": "markdown",
   "id": "cb1588cc",
   "metadata": {},
   "source": [
    "Conforme o DataSet que eleboramos acima, pudemos perceber que o anos onde mais se houve numero de suícido foi o de 1999.\n",
    "Havía sido confirmado anteriormente que, a geração onde mais se registra casos de suícido, é a geração dos Boomers. que se datava entra 1946 a 1964.\n",
    "A geração boomer, no ano de 1999, teriam entre 35 a 53 anos de idade.\n",
    "qunado análisemos por faixa etária, haviamos notado que a taxa de suícidio era entre pessoas de 35 a 54 anos.\n",
    "Nesse, pudemos validar de forma consistente como os dados sobre suídio apresentam um determinado padrão onde o risco é maior"
   ]
  },
  {
   "cell_type": "markdown",
   "id": "f1c273b8",
   "metadata": {},
   "source": [
    "Segundo a análise feita do DataSet em questão, foi o de 2016.\n",
    "A diferença do anos onde houve mais suicídios e o anos onde teve menos, é de 15.000% aproximadamente"
   ]
  },
  {
   "cell_type": "code",
   "execution_count": 38,
   "id": "21d8b365",
   "metadata": {},
   "outputs": [
    {
     "data": {
      "text/html": [
       "<div>\n",
       "<style scoped>\n",
       "    .dataframe tbody tr th:only-of-type {\n",
       "        vertical-align: middle;\n",
       "    }\n",
       "\n",
       "    .dataframe tbody tr th {\n",
       "        vertical-align: top;\n",
       "    }\n",
       "\n",
       "    .dataframe thead th {\n",
       "        text-align: right;\n",
       "    }\n",
       "</style>\n",
       "<table border=\"1\" class=\"dataframe\">\n",
       "  <thead>\n",
       "    <tr style=\"text-align: right;\">\n",
       "      <th></th>\n",
       "      <th>max</th>\n",
       "      <th>sum</th>\n",
       "    </tr>\n",
       "    <tr>\n",
       "      <th>year</th>\n",
       "      <th></th>\n",
       "      <th></th>\n",
       "    </tr>\n",
       "  </thead>\n",
       "  <tbody>\n",
       "    <tr>\n",
       "      <th>1994</th>\n",
       "      <td>22338</td>\n",
       "      <td>232063</td>\n",
       "    </tr>\n",
       "    <tr>\n",
       "      <th>1995</th>\n",
       "      <td>21706</td>\n",
       "      <td>243544</td>\n",
       "    </tr>\n",
       "    <tr>\n",
       "      <th>2001</th>\n",
       "      <td>21262</td>\n",
       "      <td>250652</td>\n",
       "    </tr>\n",
       "    <tr>\n",
       "      <th>2000</th>\n",
       "      <td>21063</td>\n",
       "      <td>255832</td>\n",
       "    </tr>\n",
       "    <tr>\n",
       "      <th>1999</th>\n",
       "      <td>20705</td>\n",
       "      <td>256119</td>\n",
       "    </tr>\n",
       "    <tr>\n",
       "      <th>1996</th>\n",
       "      <td>20562</td>\n",
       "      <td>246725</td>\n",
       "    </tr>\n",
       "    <tr>\n",
       "      <th>1993</th>\n",
       "      <td>20256</td>\n",
       "      <td>221565</td>\n",
       "    </tr>\n",
       "    <tr>\n",
       "      <th>2002</th>\n",
       "      <td>20119</td>\n",
       "      <td>256095</td>\n",
       "    </tr>\n",
       "    <tr>\n",
       "      <th>1997</th>\n",
       "      <td>18973</td>\n",
       "      <td>240745</td>\n",
       "    </tr>\n",
       "    <tr>\n",
       "      <th>2003</th>\n",
       "      <td>18681</td>\n",
       "      <td>256079</td>\n",
       "    </tr>\n",
       "    <tr>\n",
       "      <th>1998</th>\n",
       "      <td>18058</td>\n",
       "      <td>249591</td>\n",
       "    </tr>\n",
       "    <tr>\n",
       "      <th>2004</th>\n",
       "      <td>17465</td>\n",
       "      <td>240861</td>\n",
       "    </tr>\n",
       "    <tr>\n",
       "      <th>2005</th>\n",
       "      <td>15843</td>\n",
       "      <td>234375</td>\n",
       "    </tr>\n",
       "    <tr>\n",
       "      <th>1992</th>\n",
       "      <td>15824</td>\n",
       "      <td>211473</td>\n",
       "    </tr>\n",
       "    <tr>\n",
       "      <th>2006</th>\n",
       "      <td>14020</td>\n",
       "      <td>233361</td>\n",
       "    </tr>\n",
       "    <tr>\n",
       "      <th>2007</th>\n",
       "      <td>13065</td>\n",
       "      <td>233408</td>\n",
       "    </tr>\n",
       "    <tr>\n",
       "      <th>1991</th>\n",
       "      <td>12746</td>\n",
       "      <td>198020</td>\n",
       "    </tr>\n",
       "    <tr>\n",
       "      <th>1990</th>\n",
       "      <td>12517</td>\n",
       "      <td>193361</td>\n",
       "    </tr>\n",
       "    <tr>\n",
       "      <th>1989</th>\n",
       "      <td>12030</td>\n",
       "      <td>160244</td>\n",
       "    </tr>\n",
       "    <tr>\n",
       "      <th>2008</th>\n",
       "      <td>11848</td>\n",
       "      <td>235447</td>\n",
       "    </tr>\n",
       "    <tr>\n",
       "      <th>2010</th>\n",
       "      <td>11767</td>\n",
       "      <td>238702</td>\n",
       "    </tr>\n",
       "    <tr>\n",
       "      <th>2012</th>\n",
       "      <td>11763</td>\n",
       "      <td>230160</td>\n",
       "    </tr>\n",
       "    <tr>\n",
       "      <th>2009</th>\n",
       "      <td>11721</td>\n",
       "      <td>243487</td>\n",
       "    </tr>\n",
       "    <tr>\n",
       "      <th>2011</th>\n",
       "      <td>11681</td>\n",
       "      <td>236484</td>\n",
       "    </tr>\n",
       "    <tr>\n",
       "      <th>2015</th>\n",
       "      <td>11634</td>\n",
       "      <td>203640</td>\n",
       "    </tr>\n",
       "    <tr>\n",
       "      <th>2014</th>\n",
       "      <td>11455</td>\n",
       "      <td>222984</td>\n",
       "    </tr>\n",
       "    <tr>\n",
       "      <th>2013</th>\n",
       "      <td>11396</td>\n",
       "      <td>223199</td>\n",
       "    </tr>\n",
       "    <tr>\n",
       "      <th>1986</th>\n",
       "      <td>7298</td>\n",
       "      <td>120670</td>\n",
       "    </tr>\n",
       "    <tr>\n",
       "      <th>1985</th>\n",
       "      <td>6962</td>\n",
       "      <td>116063</td>\n",
       "    </tr>\n",
       "    <tr>\n",
       "      <th>1987</th>\n",
       "      <td>6688</td>\n",
       "      <td>126842</td>\n",
       "    </tr>\n",
       "    <tr>\n",
       "      <th>1988</th>\n",
       "      <td>6528</td>\n",
       "      <td>121026</td>\n",
       "    </tr>\n",
       "    <tr>\n",
       "      <th>2016</th>\n",
       "      <td>1421</td>\n",
       "      <td>15603</td>\n",
       "    </tr>\n",
       "  </tbody>\n",
       "</table>\n",
       "</div>"
      ],
      "text/plain": [
       "        max     sum\n",
       "year               \n",
       "1994  22338  232063\n",
       "1995  21706  243544\n",
       "2001  21262  250652\n",
       "2000  21063  255832\n",
       "1999  20705  256119\n",
       "1996  20562  246725\n",
       "1993  20256  221565\n",
       "2002  20119  256095\n",
       "1997  18973  240745\n",
       "2003  18681  256079\n",
       "1998  18058  249591\n",
       "2004  17465  240861\n",
       "2005  15843  234375\n",
       "1992  15824  211473\n",
       "2006  14020  233361\n",
       "2007  13065  233408\n",
       "1991  12746  198020\n",
       "1990  12517  193361\n",
       "1989  12030  160244\n",
       "2008  11848  235447\n",
       "2010  11767  238702\n",
       "2012  11763  230160\n",
       "2009  11721  243487\n",
       "2011  11681  236484\n",
       "2015  11634  203640\n",
       "2014  11455  222984\n",
       "2013  11396  223199\n",
       "1986   7298  120670\n",
       "1985   6962  116063\n",
       "1987   6688  126842\n",
       "1988   6528  121026\n",
       "2016   1421   15603"
      ]
     },
     "execution_count": 38,
     "metadata": {},
     "output_type": "execute_result"
    }
   ],
   "source": [
    "pd.DataFrame(grupoAno['suicides_no'].aggregate( ['max','sum']).sort_values(by = 'max', ascending = False))"
   ]
  },
  {
   "cell_type": "markdown",
   "id": "7fde1d4d",
   "metadata": {},
   "source": [
    "# Uma análise somente do Brasil"
   ]
  },
  {
   "cell_type": "code",
   "execution_count": 70,
   "id": "5c6467c0",
   "metadata": {},
   "outputs": [
    {
     "data": {
      "text/html": [
       "<div>\n",
       "<style scoped>\n",
       "    .dataframe tbody tr th:only-of-type {\n",
       "        vertical-align: middle;\n",
       "    }\n",
       "\n",
       "    .dataframe tbody tr th {\n",
       "        vertical-align: top;\n",
       "    }\n",
       "\n",
       "    .dataframe thead th {\n",
       "        text-align: right;\n",
       "    }\n",
       "</style>\n",
       "<table border=\"1\" class=\"dataframe\">\n",
       "  <thead>\n",
       "    <tr style=\"text-align: right;\">\n",
       "      <th></th>\n",
       "      <th>country</th>\n",
       "      <th>suicides_no</th>\n",
       "      <th>year</th>\n",
       "    </tr>\n",
       "  </thead>\n",
       "  <tbody>\n",
       "    <tr>\n",
       "      <th>4534</th>\n",
       "      <td>Brazil</td>\n",
       "      <td>3238</td>\n",
       "      <td>2015</td>\n",
       "    </tr>\n",
       "  </tbody>\n",
       "</table>\n",
       "</div>"
      ],
      "text/plain": [
       "     country  suicides_no  year\n",
       "4534  Brazil         3238  2015"
      ]
     },
     "execution_count": 70,
     "metadata": {},
     "output_type": "execute_result"
    }
   ],
   "source": [
    "df[['country','suicides_no','year']].query(\"country == 'Brazil'\").sort_values(by = 'suicides_no', ascending = False).head(1)"
   ]
  },
  {
   "cell_type": "code",
   "execution_count": 71,
   "id": "d8219ac6",
   "metadata": {},
   "outputs": [
    {
     "data": {
      "text/html": [
       "<div>\n",
       "<style scoped>\n",
       "    .dataframe tbody tr th:only-of-type {\n",
       "        vertical-align: middle;\n",
       "    }\n",
       "\n",
       "    .dataframe tbody tr th {\n",
       "        vertical-align: top;\n",
       "    }\n",
       "\n",
       "    .dataframe thead th {\n",
       "        text-align: right;\n",
       "    }\n",
       "</style>\n",
       "<table border=\"1\" class=\"dataframe\">\n",
       "  <thead>\n",
       "    <tr style=\"text-align: right;\">\n",
       "      <th></th>\n",
       "      <th>country</th>\n",
       "      <th>suicides_no</th>\n",
       "      <th>year</th>\n",
       "    </tr>\n",
       "  </thead>\n",
       "  <tbody>\n",
       "    <tr>\n",
       "      <th>4219</th>\n",
       "      <td>Brazil</td>\n",
       "      <td>25</td>\n",
       "      <td>1988</td>\n",
       "    </tr>\n",
       "  </tbody>\n",
       "</table>\n",
       "</div>"
      ],
      "text/plain": [
       "     country  suicides_no  year\n",
       "4219  Brazil           25  1988"
      ]
     },
     "execution_count": 71,
     "metadata": {},
     "output_type": "execute_result"
    }
   ],
   "source": [
    "df[['country','suicides_no','year']].query(\"country == 'Brazil'\").sort_values(by = 'suicides_no', ascending = True).head(1)"
   ]
  },
  {
   "cell_type": "markdown",
   "id": "bea9e1cc",
   "metadata": {},
   "source": [
    "Segundo o dataset, o Ano em que o Brasil registrou o maior numero de suídios, foi em 2015, realizando 3238 registros de suicídio\n",
    "Em contrapartida, o ano em que o Brasil registro o menor número de suicídios, foi em 1988, realizando apenas 25 registros\n",
    "A diferença percentual é de um aumento de inacreditáveis 12.852%"
   ]
  },
  {
   "cell_type": "code",
   "execution_count": 75,
   "id": "d2e5da68",
   "metadata": {},
   "outputs": [
    {
     "data": {
      "text/html": [
       "<div>\n",
       "<style scoped>\n",
       "    .dataframe tbody tr th:only-of-type {\n",
       "        vertical-align: middle;\n",
       "    }\n",
       "\n",
       "    .dataframe tbody tr th {\n",
       "        vertical-align: top;\n",
       "    }\n",
       "\n",
       "    .dataframe thead th {\n",
       "        text-align: right;\n",
       "    }\n",
       "</style>\n",
       "<table border=\"1\" class=\"dataframe\">\n",
       "  <thead>\n",
       "    <tr style=\"text-align: right;\">\n",
       "      <th></th>\n",
       "      <th>country</th>\n",
       "      <th>suicides_no</th>\n",
       "      <th>year</th>\n",
       "    </tr>\n",
       "  </thead>\n",
       "  <tbody>\n",
       "    <tr>\n",
       "      <th>20996</th>\n",
       "      <td>Russian Federation</td>\n",
       "      <td>22338</td>\n",
       "      <td>1994</td>\n",
       "    </tr>\n",
       "  </tbody>\n",
       "</table>\n",
       "</div>"
      ],
      "text/plain": [
       "                  country  suicides_no  year\n",
       "20996  Russian Federation        22338  1994"
      ]
     },
     "execution_count": 75,
     "metadata": {},
     "output_type": "execute_result"
    }
   ],
   "source": [
    "df[['country','suicides_no','year']].sort_values(by = 'suicides_no', ascending = False).head(1)"
   ]
  },
  {
   "cell_type": "markdown",
   "id": "d5aba92a",
   "metadata": {},
   "source": [
    "O país mais teve registros em um único ano, foi a Russia, realizando 22.338 registros no ano de 1994.\n",
    "Em comparação ao máximo do Brasil, esse valor é 589,87% maior."
   ]
  },
  {
   "cell_type": "code",
   "execution_count": 85,
   "id": "7e30b9e0",
   "metadata": {},
   "outputs": [
    {
     "data": {
      "text/plain": [
       "226613"
      ]
     },
     "execution_count": 85,
     "metadata": {},
     "output_type": "execute_result"
    }
   ],
   "source": [
    "df[['country','suicides_no']].query(\"country == 'Brazil'\").sum()[1]"
   ]
  },
  {
   "cell_type": "markdown",
   "id": "221e257d",
   "metadata": {},
   "source": [
    "De de 1985 a 2016, o Brasil registrou um total de 226613 Caso de suícidio"
   ]
  },
  {
   "cell_type": "code",
   "execution_count": 98,
   "id": "562123e2",
   "metadata": {},
   "outputs": [
    {
     "data": {
      "text/html": [
       "<div>\n",
       "<style scoped>\n",
       "    .dataframe tbody tr th:only-of-type {\n",
       "        vertical-align: middle;\n",
       "    }\n",
       "\n",
       "    .dataframe tbody tr th {\n",
       "        vertical-align: top;\n",
       "    }\n",
       "\n",
       "    .dataframe thead th {\n",
       "        text-align: right;\n",
       "    }\n",
       "</style>\n",
       "<table border=\"1\" class=\"dataframe\">\n",
       "  <thead>\n",
       "    <tr style=\"text-align: right;\">\n",
       "      <th></th>\n",
       "      <th>country</th>\n",
       "      <th>suicides_no</th>\n",
       "      <th>year</th>\n",
       "    </tr>\n",
       "  </thead>\n",
       "  <tbody>\n",
       "    <tr>\n",
       "      <th>4172</th>\n",
       "      <td>Brazil</td>\n",
       "      <td>129</td>\n",
       "      <td>1985</td>\n",
       "    </tr>\n",
       "    <tr>\n",
       "      <th>4173</th>\n",
       "      <td>Brazil</td>\n",
       "      <td>535</td>\n",
       "      <td>1985</td>\n",
       "    </tr>\n",
       "    <tr>\n",
       "      <th>4174</th>\n",
       "      <td>Brazil</td>\n",
       "      <td>1011</td>\n",
       "      <td>1985</td>\n",
       "    </tr>\n",
       "    <tr>\n",
       "      <th>4175</th>\n",
       "      <td>Brazil</td>\n",
       "      <td>791</td>\n",
       "      <td>1985</td>\n",
       "    </tr>\n",
       "    <tr>\n",
       "      <th>4176</th>\n",
       "      <td>Brazil</td>\n",
       "      <td>661</td>\n",
       "      <td>1985</td>\n",
       "    </tr>\n",
       "    <tr>\n",
       "      <th>...</th>\n",
       "      <td>...</td>\n",
       "      <td>...</td>\n",
       "      <td>...</td>\n",
       "    </tr>\n",
       "    <tr>\n",
       "      <th>4539</th>\n",
       "      <td>Brazil</td>\n",
       "      <td>466</td>\n",
       "      <td>2015</td>\n",
       "    </tr>\n",
       "    <tr>\n",
       "      <th>4540</th>\n",
       "      <td>Brazil</td>\n",
       "      <td>89</td>\n",
       "      <td>2015</td>\n",
       "    </tr>\n",
       "    <tr>\n",
       "      <th>4541</th>\n",
       "      <td>Brazil</td>\n",
       "      <td>397</td>\n",
       "      <td>2015</td>\n",
       "    </tr>\n",
       "    <tr>\n",
       "      <th>4542</th>\n",
       "      <td>Brazil</td>\n",
       "      <td>79</td>\n",
       "      <td>2015</td>\n",
       "    </tr>\n",
       "    <tr>\n",
       "      <th>4543</th>\n",
       "      <td>Brazil</td>\n",
       "      <td>56</td>\n",
       "      <td>2015</td>\n",
       "    </tr>\n",
       "  </tbody>\n",
       "</table>\n",
       "<p>372 rows × 3 columns</p>\n",
       "</div>"
      ],
      "text/plain": [
       "     country  suicides_no  year\n",
       "4172  Brazil          129  1985\n",
       "4173  Brazil          535  1985\n",
       "4174  Brazil         1011  1985\n",
       "4175  Brazil          791  1985\n",
       "4176  Brazil          661  1985\n",
       "...      ...          ...   ...\n",
       "4539  Brazil          466  2015\n",
       "4540  Brazil           89  2015\n",
       "4541  Brazil          397  2015\n",
       "4542  Brazil           79  2015\n",
       "4543  Brazil           56  2015\n",
       "\n",
       "[372 rows x 3 columns]"
      ]
     },
     "execution_count": 98,
     "metadata": {},
     "output_type": "execute_result"
    }
   ],
   "source": [
    "df2 = df[['country','suicides_no','year']].query(\"country == 'Brazil'\")\n",
    "df2"
   ]
  },
  {
   "cell_type": "code",
   "execution_count": 99,
   "id": "5fd6744d",
   "metadata": {},
   "outputs": [
    {
     "name": "stderr",
     "output_type": "stream",
     "text": [
      "C:\\Users\\fqueirox\\Anaconda3\\lib\\site-packages\\seaborn\\distributions.py:2557: FutureWarning: `distplot` is a deprecated function and will be removed in a future version. Please adapt your code to use either `displot` (a figure-level function with similar flexibility) or `histplot` (an axes-level function for histograms).\n",
      "  warnings.warn(msg, FutureWarning)\n"
     ]
    },
    {
     "data": {
      "text/plain": [
       "<AxesSubplot:xlabel='suicides_no', ylabel='Density'>"
      ]
     },
     "execution_count": 99,
     "metadata": {},
     "output_type": "execute_result"
    },
    {
     "data": {
      "image/png": "[encoded data removed]",
      "text/plain": [
       "<Figure size 432x288 with 1 Axes>"
      ]
     },
     "metadata": {
      "needs_background": "light"
     },
     "output_type": "display_data"
    }
   ],
   "source": [
    "ax1 = sns.distplot(df2['suicides_no']) \n",
    "ax1"
   ]
  },
  {
   "cell_type": "markdown",
   "id": "c9e68d0c",
   "metadata": {},
   "source": [
    "A distribuição de suícidio no Brasil se assemelham ao que chamamos de \"distribuição paranormal a direita\" ou seja, ela não é simétrica, e pudemos perceber uma baixa significativa"
   ]
  },
  {
   "cell_type": "code",
   "execution_count": 105,
   "id": "ed59b303",
   "metadata": {},
   "outputs": [
    {
     "data": {
      "text/plain": [
       "609.1747311827957"
      ]
     },
     "execution_count": 105,
     "metadata": {},
     "output_type": "execute_result"
    }
   ],
   "source": [
    "df2['suicides_no'].mean()"
   ]
  },
  {
   "cell_type": "code",
   "execution_count": 106,
   "id": "bc5a9816",
   "metadata": {},
   "outputs": [
    {
     "data": {
      "text/plain": [
       "652.5670967401788"
      ]
     },
     "execution_count": 106,
     "metadata": {},
     "output_type": "execute_result"
    }
   ],
   "source": [
    "df2['suicides_no'].std()"
   ]
  },
  {
   "cell_type": "markdown",
   "id": "3739e2c8",
   "metadata": {},
   "source": [
    "A média de mortes por suicídio por ano no Brasil por ano é 609 caso, e, o desvio padrão é de 652.\n",
    "Como estamos lidando como uma distribuição paranormal, é esperado que essa medida de dispersão não representasse bem a essa população"
   ]
  },
  {
   "cell_type": "code",
   "execution_count": 107,
   "id": "faa88a27",
   "metadata": {},
   "outputs": [
    {
     "data": {
      "text/plain": [
       "348.0"
      ]
     },
     "execution_count": 107,
     "metadata": {},
     "output_type": "execute_result"
    }
   ],
   "source": [
    "df2['suicides_no'].median()"
   ]
  },
  {
   "cell_type": "markdown",
   "id": "661fd202",
   "metadata": {},
   "source": [
    "A media da nossa distribuição é 348, esse é o valor central da distribuição, ou seja, representa o valor exato onde metade dos valores estao abaixo ou acima do mesmo."
   ]
  },
  {
   "cell_type": "markdown",
   "id": "0e6c25d9",
   "metadata": {},
   "source": [
    "# Utilização de regressão linear para predição de suícidios no Brasil"
   ]
  },
  {
   "cell_type": "code",
   "execution_count": 108,
   "id": "0bbaeb39",
   "metadata": {},
   "outputs": [],
   "source": [
    "from sklearn.model_selection import train_test_split\n",
    "from sklearn import linear_model"
   ]
  },
  {
   "cell_type": "code",
   "execution_count": 133,
   "id": "65f14efb",
   "metadata": {},
   "outputs": [
    {
     "data": {
      "text/html": [
       "<div>\n",
       "<style scoped>\n",
       "    .dataframe tbody tr th:only-of-type {\n",
       "        vertical-align: middle;\n",
       "    }\n",
       "\n",
       "    .dataframe tbody tr th {\n",
       "        vertical-align: top;\n",
       "    }\n",
       "\n",
       "    .dataframe thead th {\n",
       "        text-align: right;\n",
       "    }\n",
       "</style>\n",
       "<table border=\"1\" class=\"dataframe\">\n",
       "  <thead>\n",
       "    <tr style=\"text-align: right;\">\n",
       "      <th></th>\n",
       "      <th>country</th>\n",
       "      <th>year</th>\n",
       "      <th>sex</th>\n",
       "      <th>age</th>\n",
       "      <th>suicides_no</th>\n",
       "      <th>population</th>\n",
       "      <th>country-year</th>\n",
       "      <th>generation</th>\n",
       "    </tr>\n",
       "  </thead>\n",
       "  <tbody>\n",
       "    <tr>\n",
       "      <th>0</th>\n",
       "      <td>Albania</td>\n",
       "      <td>1987</td>\n",
       "      <td>male</td>\n",
       "      <td>15-24 years</td>\n",
       "      <td>21</td>\n",
       "      <td>312900</td>\n",
       "      <td>Albania1987</td>\n",
       "      <td>Generation X</td>\n",
       "    </tr>\n",
       "    <tr>\n",
       "      <th>1</th>\n",
       "      <td>Albania</td>\n",
       "      <td>1987</td>\n",
       "      <td>male</td>\n",
       "      <td>35-54 years</td>\n",
       "      <td>16</td>\n",
       "      <td>308000</td>\n",
       "      <td>Albania1987</td>\n",
       "      <td>Silent</td>\n",
       "    </tr>\n",
       "  </tbody>\n",
       "</table>\n",
       "</div>"
      ],
      "text/plain": [
       "   country  year   sex          age  suicides_no  population country-year  \\\n",
       "0  Albania  1987  male  15-24 years           21      312900  Albania1987   \n",
       "1  Albania  1987  male  35-54 years           16      308000  Albania1987   \n",
       "\n",
       "     generation  \n",
       "0  Generation X  \n",
       "1        Silent  "
      ]
     },
     "execution_count": 133,
     "metadata": {},
     "output_type": "execute_result"
    }
   ],
   "source": [
    "df.head(2)"
   ]
  },
  {
   "cell_type": "code",
   "execution_count": 135,
   "id": "3f9d0166",
   "metadata": {},
   "outputs": [
    {
     "data": {
      "text/html": [
       "<div>\n",
       "<style scoped>\n",
       "    .dataframe tbody tr th:only-of-type {\n",
       "        vertical-align: middle;\n",
       "    }\n",
       "\n",
       "    .dataframe tbody tr th {\n",
       "        vertical-align: top;\n",
       "    }\n",
       "\n",
       "    .dataframe thead th {\n",
       "        text-align: right;\n",
       "    }\n",
       "</style>\n",
       "<table border=\"1\" class=\"dataframe\">\n",
       "  <thead>\n",
       "    <tr style=\"text-align: right;\">\n",
       "      <th></th>\n",
       "      <th>country</th>\n",
       "      <th>suicides_no</th>\n",
       "      <th>year</th>\n",
       "      <th>age</th>\n",
       "      <th>population</th>\n",
       "    </tr>\n",
       "  </thead>\n",
       "  <tbody>\n",
       "    <tr>\n",
       "      <th>4172</th>\n",
       "      <td>Brazil</td>\n",
       "      <td>129</td>\n",
       "      <td>1985</td>\n",
       "      <td>75+ years</td>\n",
       "      <td>840300</td>\n",
       "    </tr>\n",
       "  </tbody>\n",
       "</table>\n",
       "</div>"
      ],
      "text/plain": [
       "     country  suicides_no  year        age  population\n",
       "4172  Brazil          129  1985  75+ years      840300"
      ]
     },
     "execution_count": 135,
     "metadata": {},
     "output_type": "execute_result"
    }
   ],
   "source": [
    "df3 = df[['country','suicides_no','year','population']].query(\"country == 'Brazil'\")\n",
    "df3.head(1)"
   ]
  },
  {
   "cell_type": "code",
   "execution_count": 180,
   "id": "8335fa7c",
   "metadata": {},
   "outputs": [],
   "source": [
    "x = df3[['year','population']]\n",
    "y = df3[['suicides_no','year']]"
   ]
  },
  {
   "cell_type": "code",
   "execution_count": 181,
   "id": "60993390",
   "metadata": {},
   "outputs": [],
   "source": [
    "x_treino, x_teste, y_treino, y_teste = train_test_split(x, y)"
   ]
  },
  {
   "cell_type": "code",
   "execution_count": 182,
   "id": "c0a66962",
   "metadata": {},
   "outputs": [],
   "source": [
    "rgs = linear_model.LinearRegression(fit_intercept=False, normalize=True)"
   ]
  },
  {
   "cell_type": "code",
   "execution_count": 183,
   "id": "51279cdc",
   "metadata": {},
   "outputs": [
    {
     "data": {
      "text/plain": [
       "LinearRegression(fit_intercept=False, normalize=True)"
      ]
     },
     "execution_count": 183,
     "metadata": {},
     "output_type": "execute_result"
    }
   ],
   "source": [
    "rgs.fit(x_treino, y_treino)"
   ]
  },
  {
   "cell_type": "code",
   "execution_count": 186,
   "id": "60fc433a",
   "metadata": {},
   "outputs": [
    {
     "data": {
      "text/plain": [
       "0.568173710147932"
      ]
     },
     "execution_count": 186,
     "metadata": {},
     "output_type": "execute_result"
    }
   ],
   "source": [
    "rgs.score(x_teste, y_teste)"
   ]
  },
  {
   "cell_type": "code",
   "execution_count": 185,
   "id": "914bddc1",
   "metadata": {},
   "outputs": [
    {
     "data": {
      "image/png": "[encoded data removed]",
      "text/plain": [
       "<Figure size 432x288 with 1 Axes>"
      ]
     },
     "metadata": {
      "needs_background": "light"
     },
     "output_type": "display_data"
    }
   ],
   "source": [
    "import matplotlib.pyplot as mpt\n",
    "mpt.scatter(x_treino, y_treino, color='red')\n",
    "mpt.plot(x_treino, rgs.predict(x_treino), color = 'blue')\n",
    "mpt.show()"
   ]
  }
 ],
 "metadata": {
  "kernelspec": {
   "display_name": "Python 3",
   "language": "python",
   "name": "python3"
  },
  "language_info": {
   "codemirror_mode": {
    "name": "ipython",
    "version": 3
   },
   "file_extension": ".py",
   "mimetype": "text/x-python",
   "name": "python",
   "nbconvert_exporter": "python",
   "pygments_lexer": "ipython3",
   "version": "3.8.8"
  }
 },
 "nbformat": 4,
 "nbformat_minor": 5
}
